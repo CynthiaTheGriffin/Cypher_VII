{
  "nbformat": 4,
  "nbformat_minor": 0,
  "metadata": {
    "colab": {
      "name": "CypherVII.ipynb",
      "provenance": [],
      "collapsed_sections": []
    },
    "kernelspec": {
      "name": "python3",
      "display_name": "Python 3"
    },
    "language_info": {
      "name": "python"
    }
  },
  "cells": [
    {
      "cell_type": "code",
      "source": [
        "from google.colab import drive\n",
        "drive.mount('/content/gdrive')"
      ],
      "metadata": {
        "colab": {
          "base_uri": "https://localhost:8080/"
        },
        "id": "bBcU_xo8WU-m",
        "outputId": "1d10227d-85c6-4e6c-8b05-ddee9ad989c7"
      },
      "execution_count": 89,
      "outputs": [
        {
          "output_type": "stream",
          "name": "stdout",
          "text": [
            "Drive already mounted at /content/gdrive; to attempt to forcibly remount, call drive.mount(\"/content/gdrive\", force_remount=True).\n"
          ]
        }
      ]
    },
    {
      "cell_type": "code",
      "source": [
        "import os\n",
        "os.environ['KAGGLE_CONFIG_DIR'] = \"/content/gdrive/My Drive/Cypher_VII\"\n",
        "# /content/gdrive/My Drive is the path where kaggle.json is present in the Google Drive"
      ],
      "metadata": {
        "id": "fMDnS1mgW86y"
      },
      "execution_count": 90,
      "outputs": []
    },
    {
      "cell_type": "code",
      "source": [
        "#changing the working directory\n",
        "%cd /content/gdrive/My Drive/Cypher_VII"
      ],
      "metadata": {
        "colab": {
          "base_uri": "https://localhost:8080/"
        },
        "id": "pvxoYI6sXLk9",
        "outputId": "c4e5c83b-46a4-421c-ad7f-66f720348ddc"
      },
      "execution_count": 91,
      "outputs": [
        {
          "output_type": "stream",
          "name": "stdout",
          "text": [
            "/content/gdrive/My Drive/CypherVII\n"
          ]
        }
      ]
    },
    {
      "cell_type": "code",
      "source": [
        "!kaggle datasets download -d piterfm/beijing-2022-olympics"
      ],
      "metadata": {
        "colab": {
          "base_uri": "https://localhost:8080/"
        },
        "id": "Lhu3T2q5XXGC",
        "outputId": "d8eeafa7-1176-4223-d3fa-283e2dbfca13"
      },
      "execution_count": 92,
      "outputs": [
        {
          "output_type": "stream",
          "name": "stdout",
          "text": [
            "Downloading beijing-2022-olympics.zip to /content/gdrive/My Drive/Cypher_VII\n",
            "\r  0% 0.00/255k [00:00<?, ?B/s]\n",
            "\r100% 255k/255k [00:00<00:00, 23.9MB/s]\n"
          ]
        }
      ]
    },
    {
      "cell_type": "code",
      "source": [
        "! ls"
      ],
      "metadata": {
        "colab": {
          "base_uri": "https://localhost:8080/"
        },
        "id": "1gWrfv2TXkb7",
        "outputId": "21107628-3013-4954-c80d-415c3604d516"
      },
      "execution_count": 93,
      "outputs": [
        {
          "output_type": "stream",
          "name": "stdout",
          "text": [
            "athletes.csv\t\t   entries_discipline.csv    kaggle.json\n",
            "beijing-2022-olympics.zip  events.csv\t\t     medals.csv\n",
            "coaches.csv\t\t   hockey_players_stats.csv  medals_total.csv\n",
            "curling_results.csv\t   hockey_results.csv\t     technical_officials.csv\n"
          ]
        }
      ]
    },
    {
      "cell_type": "code",
      "source": [
        "#unzipping the zip files and deleting the zip files\n",
        "!unzip \\*.zip  && rm *.zip"
      ],
      "metadata": {
        "colab": {
          "base_uri": "https://localhost:8080/"
        },
        "id": "feZ-ZQRNYQRu",
        "outputId": "0851146e-23db-4d29-a2c7-c30823607024"
      },
      "execution_count": 94,
      "outputs": [
        {
          "output_type": "stream",
          "name": "stdout",
          "text": [
            "Archive:  beijing-2022-olympics.zip\n",
            "replace athletes.csv? [y]es, [n]o, [A]ll, [N]one, [r]ename: N\n"
          ]
        }
      ]
    },
    {
      "cell_type": "code",
      "execution_count": 97,
      "metadata": {
        "id": "3yQqVeP2U61K"
      },
      "outputs": [],
      "source": [
        "import numpy as np\n",
        "import pandas as pd\n",
        "import matplotlib.pyplot as plt\n",
        "import seaborn as sns"
      ]
    },
    {
      "cell_type": "code",
      "source": [
        "#Just messing around here\n",
        "medals_total = pd.read_csv('/content/gdrive/MyDrive/Cypher_VII/medals_total.csv', index_col='Country')\n",
        "medals_total.head()"
      ],
      "metadata": {
        "id": "HV7huR30U9lD",
        "colab": {
          "base_uri": "https://localhost:8080/",
          "height": 237
        },
        "outputId": "0dffbd41-cea8-4ecf-9710-a54a23de43c2"
      },
      "execution_count": 98,
      "outputs": [
        {
          "output_type": "execute_result",
          "data": {
            "text/plain": [
              "                            Order  Gold  Silver  Bronze  Total  \\\n",
              "Country                                                          \n",
              "Norway                          1    16       8      13     37   \n",
              "Germany                         2    12      10       5     27   \n",
              "People's Republic of China      3     9       4       2     15   \n",
              "United States of America        4     8      10       7     25   \n",
              "Sweden                          5     8       5       5     18   \n",
              "\n",
              "                            Order by Total Country Code  \n",
              "Country                                                  \n",
              "Norway                                   1          NOR  \n",
              "Germany                                  3          GER  \n",
              "People's Republic of China              11          CHN  \n",
              "United States of America                 5          USA  \n",
              "Sweden                                   6          SWE  "
            ],
            "text/html": [
              "\n",
              "  <div id=\"df-c2fd60f0-a655-4938-a77b-1f12ae87d7d1\">\n",
              "    <div class=\"colab-df-container\">\n",
              "      <div>\n",
              "<style scoped>\n",
              "    .dataframe tbody tr th:only-of-type {\n",
              "        vertical-align: middle;\n",
              "    }\n",
              "\n",
              "    .dataframe tbody tr th {\n",
              "        vertical-align: top;\n",
              "    }\n",
              "\n",
              "    .dataframe thead th {\n",
              "        text-align: right;\n",
              "    }\n",
              "</style>\n",
              "<table border=\"1\" class=\"dataframe\">\n",
              "  <thead>\n",
              "    <tr style=\"text-align: right;\">\n",
              "      <th></th>\n",
              "      <th>Order</th>\n",
              "      <th>Gold</th>\n",
              "      <th>Silver</th>\n",
              "      <th>Bronze</th>\n",
              "      <th>Total</th>\n",
              "      <th>Order by Total</th>\n",
              "      <th>Country Code</th>\n",
              "    </tr>\n",
              "    <tr>\n",
              "      <th>Country</th>\n",
              "      <th></th>\n",
              "      <th></th>\n",
              "      <th></th>\n",
              "      <th></th>\n",
              "      <th></th>\n",
              "      <th></th>\n",
              "      <th></th>\n",
              "    </tr>\n",
              "  </thead>\n",
              "  <tbody>\n",
              "    <tr>\n",
              "      <th>Norway</th>\n",
              "      <td>1</td>\n",
              "      <td>16</td>\n",
              "      <td>8</td>\n",
              "      <td>13</td>\n",
              "      <td>37</td>\n",
              "      <td>1</td>\n",
              "      <td>NOR</td>\n",
              "    </tr>\n",
              "    <tr>\n",
              "      <th>Germany</th>\n",
              "      <td>2</td>\n",
              "      <td>12</td>\n",
              "      <td>10</td>\n",
              "      <td>5</td>\n",
              "      <td>27</td>\n",
              "      <td>3</td>\n",
              "      <td>GER</td>\n",
              "    </tr>\n",
              "    <tr>\n",
              "      <th>People's Republic of China</th>\n",
              "      <td>3</td>\n",
              "      <td>9</td>\n",
              "      <td>4</td>\n",
              "      <td>2</td>\n",
              "      <td>15</td>\n",
              "      <td>11</td>\n",
              "      <td>CHN</td>\n",
              "    </tr>\n",
              "    <tr>\n",
              "      <th>United States of America</th>\n",
              "      <td>4</td>\n",
              "      <td>8</td>\n",
              "      <td>10</td>\n",
              "      <td>7</td>\n",
              "      <td>25</td>\n",
              "      <td>5</td>\n",
              "      <td>USA</td>\n",
              "    </tr>\n",
              "    <tr>\n",
              "      <th>Sweden</th>\n",
              "      <td>5</td>\n",
              "      <td>8</td>\n",
              "      <td>5</td>\n",
              "      <td>5</td>\n",
              "      <td>18</td>\n",
              "      <td>6</td>\n",
              "      <td>SWE</td>\n",
              "    </tr>\n",
              "  </tbody>\n",
              "</table>\n",
              "</div>\n",
              "      <button class=\"colab-df-convert\" onclick=\"convertToInteractive('df-c2fd60f0-a655-4938-a77b-1f12ae87d7d1')\"\n",
              "              title=\"Convert this dataframe to an interactive table.\"\n",
              "              style=\"display:none;\">\n",
              "        \n",
              "  <svg xmlns=\"http://www.w3.org/2000/svg\" height=\"24px\"viewBox=\"0 0 24 24\"\n",
              "       width=\"24px\">\n",
              "    <path d=\"M0 0h24v24H0V0z\" fill=\"none\"/>\n",
              "    <path d=\"M18.56 5.44l.94 2.06.94-2.06 2.06-.94-2.06-.94-.94-2.06-.94 2.06-2.06.94zm-11 1L8.5 8.5l.94-2.06 2.06-.94-2.06-.94L8.5 2.5l-.94 2.06-2.06.94zm10 10l.94 2.06.94-2.06 2.06-.94-2.06-.94-.94-2.06-.94 2.06-2.06.94z\"/><path d=\"M17.41 7.96l-1.37-1.37c-.4-.4-.92-.59-1.43-.59-.52 0-1.04.2-1.43.59L10.3 9.45l-7.72 7.72c-.78.78-.78 2.05 0 2.83L4 21.41c.39.39.9.59 1.41.59.51 0 1.02-.2 1.41-.59l7.78-7.78 2.81-2.81c.8-.78.8-2.07 0-2.86zM5.41 20L4 18.59l7.72-7.72 1.47 1.35L5.41 20z\"/>\n",
              "  </svg>\n",
              "      </button>\n",
              "      \n",
              "  <style>\n",
              "    .colab-df-container {\n",
              "      display:flex;\n",
              "      flex-wrap:wrap;\n",
              "      gap: 12px;\n",
              "    }\n",
              "\n",
              "    .colab-df-convert {\n",
              "      background-color: #E8F0FE;\n",
              "      border: none;\n",
              "      border-radius: 50%;\n",
              "      cursor: pointer;\n",
              "      display: none;\n",
              "      fill: #1967D2;\n",
              "      height: 32px;\n",
              "      padding: 0 0 0 0;\n",
              "      width: 32px;\n",
              "    }\n",
              "\n",
              "    .colab-df-convert:hover {\n",
              "      background-color: #E2EBFA;\n",
              "      box-shadow: 0px 1px 2px rgba(60, 64, 67, 0.3), 0px 1px 3px 1px rgba(60, 64, 67, 0.15);\n",
              "      fill: #174EA6;\n",
              "    }\n",
              "\n",
              "    [theme=dark] .colab-df-convert {\n",
              "      background-color: #3B4455;\n",
              "      fill: #D2E3FC;\n",
              "    }\n",
              "\n",
              "    [theme=dark] .colab-df-convert:hover {\n",
              "      background-color: #434B5C;\n",
              "      box-shadow: 0px 1px 3px 1px rgba(0, 0, 0, 0.15);\n",
              "      filter: drop-shadow(0px 1px 2px rgba(0, 0, 0, 0.3));\n",
              "      fill: #FFFFFF;\n",
              "    }\n",
              "  </style>\n",
              "\n",
              "      <script>\n",
              "        const buttonEl =\n",
              "          document.querySelector('#df-c2fd60f0-a655-4938-a77b-1f12ae87d7d1 button.colab-df-convert');\n",
              "        buttonEl.style.display =\n",
              "          google.colab.kernel.accessAllowed ? 'block' : 'none';\n",
              "\n",
              "        async function convertToInteractive(key) {\n",
              "          const element = document.querySelector('#df-c2fd60f0-a655-4938-a77b-1f12ae87d7d1');\n",
              "          const dataTable =\n",
              "            await google.colab.kernel.invokeFunction('convertToInteractive',\n",
              "                                                     [key], {});\n",
              "          if (!dataTable) return;\n",
              "\n",
              "          const docLinkHtml = 'Like what you see? Visit the ' +\n",
              "            '<a target=\"_blank\" href=https://colab.research.google.com/notebooks/data_table.ipynb>data table notebook</a>'\n",
              "            + ' to learn more about interactive tables.';\n",
              "          element.innerHTML = '';\n",
              "          dataTable['output_type'] = 'display_data';\n",
              "          await google.colab.output.renderOutput(dataTable, element);\n",
              "          const docLink = document.createElement('div');\n",
              "          docLink.innerHTML = docLinkHtml;\n",
              "          element.appendChild(docLink);\n",
              "        }\n",
              "      </script>\n",
              "    </div>\n",
              "  </div>\n",
              "  "
            ]
          },
          "metadata": {},
          "execution_count": 98
        }
      ]
    },
    {
      "cell_type": "code",
      "source": [
        "#Still messing around...\n",
        "gold_by_country = medals_total['Gold']\n",
        "gold_by_country.head()"
      ],
      "metadata": {
        "colab": {
          "base_uri": "https://localhost:8080/"
        },
        "id": "5pgjoFgDhHky",
        "outputId": "fdba87f2-f61c-43fc-b980-79c15d1be7c3"
      },
      "execution_count": 99,
      "outputs": [
        {
          "output_type": "execute_result",
          "data": {
            "text/plain": [
              "Country\n",
              "Norway                        16\n",
              "Germany                       12\n",
              "People's Republic of China     9\n",
              "United States of America       8\n",
              "Sweden                         8\n",
              "Name: Gold, dtype: int64"
            ]
          },
          "metadata": {},
          "execution_count": 99
        }
      ]
    },
    {
      "cell_type": "code",
      "source": [
        "#Ooh! A graph!\n",
        "sns.barplot(x=medals_total.index, y='Gold', data=medals_total)\n",
        "\n",
        "plt.title('Number of Gold Medals by Country')\n",
        "plt.ylabel('Number of Gold Medals')\n",
        "plt.xticks(rotation = 90)\n",
        "plt.show()"
      ],
      "metadata": {
        "colab": {
          "base_uri": "https://localhost:8080/",
          "height": 417
        },
        "id": "7xPGXUZZlEQ1",
        "outputId": "4f70207d-e5da-432a-9fd8-aba5c1018282"
      },
      "execution_count": 100,
      "outputs": [
        {
          "output_type": "display_data",
          "data": {
            "text/plain": [
              "<Figure size 432x288 with 1 Axes>"
            ],
            "image/png": "[encoded data removed]"
          },
          "metadata": {
            "needs_background": "light"
          }
        }
      ]
    },
    {
      "cell_type": "code",
      "source": [
        "athletes = pd.read_csv('/content/gdrive/MyDrive/Cypher_VII/athletes.csv')\n",
        "athletes.head()"
      ],
      "metadata": {
        "colab": {
          "base_uri": "https://localhost:8080/",
          "height": 409
        },
        "id": "AnJtMA27l8cx",
        "outputId": "dedc7283-cfc9-4984-b9ba-8d370ef8eb33"
      },
      "execution_count": 212,
      "outputs": [
        {
          "output_type": "execute_result",
          "data": {
            "text/plain": [
              "                name    short_name gender  birth_date    birth_place  \\\n",
              "0     AAGAARD Mikkel     AAGAARD M   Male  1995-10-18  FREDERIKSHAVN   \n",
              "1        AALTO Antti       AALTO A   Male  1995-04-02          KITEE   \n",
              "2      AALTONEN Miro    AALTONEN M   Male  1993-06-07        JOENSUU   \n",
              "3  ABDELKADER Justin  ABDELKADER J   Male  1987-02-25   MUSKEGON, MI   \n",
              "4         ABDI Fayik        ABDI F   Male  1997-10-07  SAN DIEGO, CA   \n",
              "\n",
              "              birth_country                   country country_code  \\\n",
              "0                   Denmark                   Denmark          DEN   \n",
              "1                   Finland                   Finland          FIN   \n",
              "2                   Finland                   Finland          FIN   \n",
              "3  United States of America  United States of America          USA   \n",
              "4  United States of America              Saudi Arabia          KSA   \n",
              "\n",
              "      discipline discipline_code   residence_place         residence_country  \\\n",
              "0     Ice Hockey             IHO      ORNSKOLDSVIK                    Sweden   \n",
              "1    Ski Jumping             SJP            KUOPIO                   Finland   \n",
              "2     Ice Hockey             IHO           PODOLSK        Russian Federation   \n",
              "3     Ice Hockey             IHO  GRAND RAPIDS, MI  United States of America   \n",
              "4  Alpine Skiing             ALP           DHAHRAN              Saudi Arabia   \n",
              "\n",
              "   height_m/ft                                                url  \n",
              "0   1.84/6'0''  ../../../en/results/ice-hockey/athlete-profile...  \n",
              "1          NaN  ../../../en/results/ski-jumping/athlete-profil...  \n",
              "2  1.80/5'10''  ../../../en/results/ice-hockey/athlete-profile...  \n",
              "3   1.87/6'1''  ../../../en/results/ice-hockey/athlete-profile...  \n",
              "4          NaN  ../../../en/results/alpine-skiing/athlete-prof...  "
            ],
            "text/html": [
              "\n",
              "  <div id=\"df-caac3d58-15e9-430c-a662-e812da741cda\">\n",
              "    <div class=\"colab-df-container\">\n",
              "      <div>\n",
              "<style scoped>\n",
              "    .dataframe tbody tr th:only-of-type {\n",
              "        vertical-align: middle;\n",
              "    }\n",
              "\n",
              "    .dataframe tbody tr th {\n",
              "        vertical-align: top;\n",
              "    }\n",
              "\n",
              "    .dataframe thead th {\n",
              "        text-align: right;\n",
              "    }\n",
              "</style>\n",
              "<table border=\"1\" class=\"dataframe\">\n",
              "  <thead>\n",
              "    <tr style=\"text-align: right;\">\n",
              "      <th></th>\n",
              "      <th>name</th>\n",
              "      <th>short_name</th>\n",
              "      <th>gender</th>\n",
              "      <th>birth_date</th>\n",
              "      <th>birth_place</th>\n",
              "      <th>birth_country</th>\n",
              "      <th>country</th>\n",
              "      <th>country_code</th>\n",
              "      <th>discipline</th>\n",
              "      <th>discipline_code</th>\n",
              "      <th>residence_place</th>\n",
              "      <th>residence_country</th>\n",
              "      <th>height_m/ft</th>\n",
              "      <th>url</th>\n",
              "    </tr>\n",
              "  </thead>\n",
              "  <tbody>\n",
              "    <tr>\n",
              "      <th>0</th>\n",
              "      <td>AAGAARD Mikkel</td>\n",
              "      <td>AAGAARD M</td>\n",
              "      <td>Male</td>\n",
              "      <td>1995-10-18</td>\n",
              "      <td>FREDERIKSHAVN</td>\n",
              "      <td>Denmark</td>\n",
              "      <td>Denmark</td>\n",
              "      <td>DEN</td>\n",
              "      <td>Ice Hockey</td>\n",
              "      <td>IHO</td>\n",
              "      <td>ORNSKOLDSVIK</td>\n",
              "      <td>Sweden</td>\n",
              "      <td>1.84/6'0''</td>\n",
              "      <td>../../../en/results/ice-hockey/athlete-profile...</td>\n",
              "    </tr>\n",
              "    <tr>\n",
              "      <th>1</th>\n",
              "      <td>AALTO Antti</td>\n",
              "      <td>AALTO A</td>\n",
              "      <td>Male</td>\n",
              "      <td>1995-04-02</td>\n",
              "      <td>KITEE</td>\n",
              "      <td>Finland</td>\n",
              "      <td>Finland</td>\n",
              "      <td>FIN</td>\n",
              "      <td>Ski Jumping</td>\n",
              "      <td>SJP</td>\n",
              "      <td>KUOPIO</td>\n",
              "      <td>Finland</td>\n",
              "      <td>NaN</td>\n",
              "      <td>../../../en/results/ski-jumping/athlete-profil...</td>\n",
              "    </tr>\n",
              "    <tr>\n",
              "      <th>2</th>\n",
              "      <td>AALTONEN Miro</td>\n",
              "      <td>AALTONEN M</td>\n",
              "      <td>Male</td>\n",
              "      <td>1993-06-07</td>\n",
              "      <td>JOENSUU</td>\n",
              "      <td>Finland</td>\n",
              "      <td>Finland</td>\n",
              "      <td>FIN</td>\n",
              "      <td>Ice Hockey</td>\n",
              "      <td>IHO</td>\n",
              "      <td>PODOLSK</td>\n",
              "      <td>Russian Federation</td>\n",
              "      <td>1.80/5'10''</td>\n",
              "      <td>../../../en/results/ice-hockey/athlete-profile...</td>\n",
              "    </tr>\n",
              "    <tr>\n",
              "      <th>3</th>\n",
              "      <td>ABDELKADER Justin</td>\n",
              "      <td>ABDELKADER J</td>\n",
              "      <td>Male</td>\n",
              "      <td>1987-02-25</td>\n",
              "      <td>MUSKEGON, MI</td>\n",
              "      <td>United States of America</td>\n",
              "      <td>United States of America</td>\n",
              "      <td>USA</td>\n",
              "      <td>Ice Hockey</td>\n",
              "      <td>IHO</td>\n",
              "      <td>GRAND RAPIDS, MI</td>\n",
              "      <td>United States of America</td>\n",
              "      <td>1.87/6'1''</td>\n",
              "      <td>../../../en/results/ice-hockey/athlete-profile...</td>\n",
              "    </tr>\n",
              "    <tr>\n",
              "      <th>4</th>\n",
              "      <td>ABDI Fayik</td>\n",
              "      <td>ABDI F</td>\n",
              "      <td>Male</td>\n",
              "      <td>1997-10-07</td>\n",
              "      <td>SAN DIEGO, CA</td>\n",
              "      <td>United States of America</td>\n",
              "      <td>Saudi Arabia</td>\n",
              "      <td>KSA</td>\n",
              "      <td>Alpine Skiing</td>\n",
              "      <td>ALP</td>\n",
              "      <td>DHAHRAN</td>\n",
              "      <td>Saudi Arabia</td>\n",
              "      <td>NaN</td>\n",
              "      <td>../../../en/results/alpine-skiing/athlete-prof...</td>\n",
              "    </tr>\n",
              "  </tbody>\n",
              "</table>\n",
              "</div>\n",
              "      <button class=\"colab-df-convert\" onclick=\"convertToInteractive('df-caac3d58-15e9-430c-a662-e812da741cda')\"\n",
              "              title=\"Convert this dataframe to an interactive table.\"\n",
              "              style=\"display:none;\">\n",
              "        \n",
              "  <svg xmlns=\"http://www.w3.org/2000/svg\" height=\"24px\"viewBox=\"0 0 24 24\"\n",
              "       width=\"24px\">\n",
              "    <path d=\"M0 0h24v24H0V0z\" fill=\"none\"/>\n",
              "    <path d=\"M18.56 5.44l.94 2.06.94-2.06 2.06-.94-2.06-.94-.94-2.06-.94 2.06-2.06.94zm-11 1L8.5 8.5l.94-2.06 2.06-.94-2.06-.94L8.5 2.5l-.94 2.06-2.06.94zm10 10l.94 2.06.94-2.06 2.06-.94-2.06-.94-.94-2.06-.94 2.06-2.06.94z\"/><path d=\"M17.41 7.96l-1.37-1.37c-.4-.4-.92-.59-1.43-.59-.52 0-1.04.2-1.43.59L10.3 9.45l-7.72 7.72c-.78.78-.78 2.05 0 2.83L4 21.41c.39.39.9.59 1.41.59.51 0 1.02-.2 1.41-.59l7.78-7.78 2.81-2.81c.8-.78.8-2.07 0-2.86zM5.41 20L4 18.59l7.72-7.72 1.47 1.35L5.41 20z\"/>\n",
              "  </svg>\n",
              "      </button>\n",
              "      \n",
              "  <style>\n",
              "    .colab-df-container {\n",
              "      display:flex;\n",
              "      flex-wrap:wrap;\n",
              "      gap: 12px;\n",
              "    }\n",
              "\n",
              "    .colab-df-convert {\n",
              "      background-color: #E8F0FE;\n",
              "      border: none;\n",
              "      border-radius: 50%;\n",
              "      cursor: pointer;\n",
              "      display: none;\n",
              "      fill: #1967D2;\n",
              "      height: 32px;\n",
              "      padding: 0 0 0 0;\n",
              "      width: 32px;\n",
              "    }\n",
              "\n",
              "    .colab-df-convert:hover {\n",
              "      background-color: #E2EBFA;\n",
              "      box-shadow: 0px 1px 2px rgba(60, 64, 67, 0.3), 0px 1px 3px 1px rgba(60, 64, 67, 0.15);\n",
              "      fill: #174EA6;\n",
              "    }\n",
              "\n",
              "    [theme=dark] .colab-df-convert {\n",
              "      background-color: #3B4455;\n",
              "      fill: #D2E3FC;\n",
              "    }\n",
              "\n",
              "    [theme=dark] .colab-df-convert:hover {\n",
              "      background-color: #434B5C;\n",
              "      box-shadow: 0px 1px 3px 1px rgba(0, 0, 0, 0.15);\n",
              "      filter: drop-shadow(0px 1px 2px rgba(0, 0, 0, 0.3));\n",
              "      fill: #FFFFFF;\n",
              "    }\n",
              "  </style>\n",
              "\n",
              "      <script>\n",
              "        const buttonEl =\n",
              "          document.querySelector('#df-caac3d58-15e9-430c-a662-e812da741cda button.colab-df-convert');\n",
              "        buttonEl.style.display =\n",
              "          google.colab.kernel.accessAllowed ? 'block' : 'none';\n",
              "\n",
              "        async function convertToInteractive(key) {\n",
              "          const element = document.querySelector('#df-caac3d58-15e9-430c-a662-e812da741cda');\n",
              "          const dataTable =\n",
              "            await google.colab.kernel.invokeFunction('convertToInteractive',\n",
              "                                                     [key], {});\n",
              "          if (!dataTable) return;\n",
              "\n",
              "          const docLinkHtml = 'Like what you see? Visit the ' +\n",
              "            '<a target=\"_blank\" href=https://colab.research.google.com/notebooks/data_table.ipynb>data table notebook</a>'\n",
              "            + ' to learn more about interactive tables.';\n",
              "          element.innerHTML = '';\n",
              "          dataTable['output_type'] = 'display_data';\n",
              "          await google.colab.output.renderOutput(dataTable, element);\n",
              "          const docLink = document.createElement('div');\n",
              "          docLink.innerHTML = docLinkHtml;\n",
              "          element.appendChild(docLink);\n",
              "        }\n",
              "      </script>\n",
              "    </div>\n",
              "  </div>\n",
              "  "
            ]
          },
          "metadata": {},
          "execution_count": 212
        }
      ]
    },
    {
      "cell_type": "code",
      "source": [
        "athletes['gender'].unique()"
      ],
      "metadata": {
        "colab": {
          "base_uri": "https://localhost:8080/"
        },
        "id": "Bqfc1cEowMU4",
        "outputId": "79d8e367-3a11-4618-fc84-a01805d68e1d"
      },
      "execution_count": 213,
      "outputs": [
        {
          "output_type": "execute_result",
          "data": {
            "text/plain": [
              "array(['Male', 'Female', 'F', 'M'], dtype=object)"
            ]
          },
          "metadata": {},
          "execution_count": 213
        }
      ]
    },
    {
      "cell_type": "code",
      "source": [
        "athletes_1 = athletes.copy()\n",
        "#Changes 'M' and 'F' to 'Male' and 'Female'\n",
        "athletes_1.loc[athletes_1['gender'] == 'M', 'gender'] = 'Male'\n",
        "athletes_1.loc[athletes_1['gender'] == 'F', 'gender'] = 'Female'\n",
        "athletes_1['gender'].unique()"
      ],
      "metadata": {
        "colab": {
          "base_uri": "https://localhost:8080/"
        },
        "id": "Pehn6z3Ksyw8",
        "outputId": "4fbf7382-cb40-4aa9-8853-d487a71ebed0"
      },
      "execution_count": 214,
      "outputs": [
        {
          "output_type": "execute_result",
          "data": {
            "text/plain": [
              "array(['Male', 'Female'], dtype=object)"
            ]
          },
          "metadata": {},
          "execution_count": 214
        }
      ]
    },
    {
      "cell_type": "code",
      "source": [
        "athletes_1['discipline'].unique()"
      ],
      "metadata": {
        "colab": {
          "base_uri": "https://localhost:8080/"
        },
        "id": "RvnJlNyja4mN",
        "outputId": "22c6e8c1-b374-4704-c0f0-2596e594f09f"
      },
      "execution_count": 215,
      "outputs": [
        {
          "output_type": "execute_result",
          "data": {
            "text/plain": [
              "array(['Ice Hockey', 'Ski Jumping', 'Alpine Skiing', 'Bobsleigh',\n",
              "       'Freestyle Skiing', 'Speed Skating', 'Short Track Speed Skating',\n",
              "       'Cross-Country Skiing', 'Biathlon', 'Figure Skating',\n",
              "       'Nordic Combined', 'Snowboard', 'Luge', 'Curling', 'Skeleton', nan],\n",
              "      dtype=object)"
            ]
          },
          "metadata": {},
          "execution_count": 215
        }
      ]
    },
    {
      "cell_type": "code",
      "source": [
        "athletes_1['discipline_code'].unique() #Note that each code corresponds with the above sports."
      ],
      "metadata": {
        "colab": {
          "base_uri": "https://localhost:8080/"
        },
        "id": "DlLiepJJgSKE",
        "outputId": "0734f533-f2bb-45fb-982e-4aa96821d5c0"
      },
      "execution_count": 216,
      "outputs": [
        {
          "output_type": "execute_result",
          "data": {
            "text/plain": [
              "array(['IHO', 'SJP', 'ALP', 'BOB', 'FRS', 'SSK', 'STK', 'CCS', 'BTH',\n",
              "       'FSK', 'NCB', 'SBD', 'LUG', 'CUR', 'SKN'], dtype=object)"
            ]
          },
          "metadata": {},
          "execution_count": 216
        }
      ]
    },
    {
      "cell_type": "code",
      "source": [
        "athletes_2 = athletes_1.copy()\n",
        "i=0\n",
        "while i < len(athletes_2.index):\n",
        "  if athletes_2.iloc[i]['discipline'] not in athletes_2['discipline'].unique(): #Detects null values\n",
        "    idx = list(athletes_2['discipline_code'].unique()).index(athletes_2.iloc[i]['discipline_code']) #Gets index of sport code\n",
        "    disc = list(athletes_2['discipline'].unique())[idx] #Uses index to get sport\n",
        "    athletes_2.iloc[i]['discipline'] = disc #Changes null to sport\n",
        "    #print(i, idx, disc)\n",
        "  i += 1\n",
        "athletes_2['discipline'].unique()"
      ],
      "metadata": {
        "colab": {
          "base_uri": "https://localhost:8080/"
        },
        "id": "W-Hj6iZsa6yL",
        "outputId": "ef92dd22-2e84-46f0-f6fd-01644670fb89"
      },
      "execution_count": 217,
      "outputs": [
        {
          "output_type": "stream",
          "name": "stdout",
          "text": [
            "653 8 Biathlon\n",
            "765 9 Figure Skating\n",
            "892 9 Figure Skating\n",
            "952 8 Biathlon\n",
            "1083 7 Cross-Country Skiing\n",
            "1126 9 Figure Skating\n",
            "1217 0 Ice Hockey\n",
            "1407 8 Biathlon\n",
            "1712 8 Biathlon\n",
            "1791 8 Biathlon\n",
            "2237 5 Speed Skating\n",
            "2498 7 Cross-Country Skiing\n"
          ]
        },
        {
          "output_type": "execute_result",
          "data": {
            "text/plain": [
              "array(['Ice Hockey', 'Ski Jumping', 'Alpine Skiing', 'Bobsleigh',\n",
              "       'Freestyle Skiing', 'Speed Skating', 'Short Track Speed Skating',\n",
              "       'Cross-Country Skiing', 'Biathlon', 'Figure Skating',\n",
              "       'Nordic Combined', 'Snowboard', 'Luge', 'Curling', 'Skeleton'],\n",
              "      dtype=object)"
            ]
          },
          "metadata": {},
          "execution_count": 217
        }
      ]
    },
    {
      "cell_type": "code",
      "source": [
        "athletes_2.head()"
      ],
      "metadata": {
        "colab": {
          "base_uri": "https://localhost:8080/",
          "height": 409
        },
        "id": "PrBawgUdzrtX",
        "outputId": "f5ee3a45-f7ee-4a44-bf3d-406bfdc551c7"
      },
      "execution_count": 221,
      "outputs": [
        {
          "output_type": "execute_result",
          "data": {
            "text/plain": [
              "                name    short_name gender  birth_date    birth_place  \\\n",
              "0     AAGAARD Mikkel     AAGAARD M   Male  1995-10-18  FREDERIKSHAVN   \n",
              "1        AALTO Antti       AALTO A   Male  1995-04-02          KITEE   \n",
              "2      AALTONEN Miro    AALTONEN M   Male  1993-06-07        JOENSUU   \n",
              "3  ABDELKADER Justin  ABDELKADER J   Male  1987-02-25   MUSKEGON, MI   \n",
              "4         ABDI Fayik        ABDI F   Male  1997-10-07  SAN DIEGO, CA   \n",
              "\n",
              "              birth_country                   country country_code  \\\n",
              "0                   Denmark                   Denmark          DEN   \n",
              "1                   Finland                   Finland          FIN   \n",
              "2                   Finland                   Finland          FIN   \n",
              "3  United States of America  United States of America          USA   \n",
              "4  United States of America              Saudi Arabia          KSA   \n",
              "\n",
              "      discipline discipline_code   residence_place         residence_country  \\\n",
              "0     Ice Hockey             IHO      ORNSKOLDSVIK                    Sweden   \n",
              "1    Ski Jumping             SJP            KUOPIO                   Finland   \n",
              "2     Ice Hockey             IHO           PODOLSK        Russian Federation   \n",
              "3     Ice Hockey             IHO  GRAND RAPIDS, MI  United States of America   \n",
              "4  Alpine Skiing             ALP           DHAHRAN              Saudi Arabia   \n",
              "\n",
              "   height_m/ft                                                url  \n",
              "0   1.84/6'0''  ../../../en/results/ice-hockey/athlete-profile...  \n",
              "1          NaN  ../../../en/results/ski-jumping/athlete-profil...  \n",
              "2  1.80/5'10''  ../../../en/results/ice-hockey/athlete-profile...  \n",
              "3   1.87/6'1''  ../../../en/results/ice-hockey/athlete-profile...  \n",
              "4          NaN  ../../../en/results/alpine-skiing/athlete-prof...  "
            ],
            "text/html": [
              "\n",
              "  <div id=\"df-ed5c3c50-3a74-436d-9bf6-f65d81e97c11\">\n",
              "    <div class=\"colab-df-container\">\n",
              "      <div>\n",
              "<style scoped>\n",
              "    .dataframe tbody tr th:only-of-type {\n",
              "        vertical-align: middle;\n",
              "    }\n",
              "\n",
              "    .dataframe tbody tr th {\n",
              "        vertical-align: top;\n",
              "    }\n",
              "\n",
              "    .dataframe thead th {\n",
              "        text-align: right;\n",
              "    }\n",
              "</style>\n",
              "<table border=\"1\" class=\"dataframe\">\n",
              "  <thead>\n",
              "    <tr style=\"text-align: right;\">\n",
              "      <th></th>\n",
              "      <th>name</th>\n",
              "      <th>short_name</th>\n",
              "      <th>gender</th>\n",
              "      <th>birth_date</th>\n",
              "      <th>birth_place</th>\n",
              "      <th>birth_country</th>\n",
              "      <th>country</th>\n",
              "      <th>country_code</th>\n",
              "      <th>discipline</th>\n",
              "      <th>discipline_code</th>\n",
              "      <th>residence_place</th>\n",
              "      <th>residence_country</th>\n",
              "      <th>height_m/ft</th>\n",
              "      <th>url</th>\n",
              "    </tr>\n",
              "  </thead>\n",
              "  <tbody>\n",
              "    <tr>\n",
              "      <th>0</th>\n",
              "      <td>AAGAARD Mikkel</td>\n",
              "      <td>AAGAARD M</td>\n",
              "      <td>Male</td>\n",
              "      <td>1995-10-18</td>\n",
              "      <td>FREDERIKSHAVN</td>\n",
              "      <td>Denmark</td>\n",
              "      <td>Denmark</td>\n",
              "      <td>DEN</td>\n",
              "      <td>Ice Hockey</td>\n",
              "      <td>IHO</td>\n",
              "      <td>ORNSKOLDSVIK</td>\n",
              "      <td>Sweden</td>\n",
              "      <td>1.84/6'0''</td>\n",
              "      <td>../../../en/results/ice-hockey/athlete-profile...</td>\n",
              "    </tr>\n",
              "    <tr>\n",
              "      <th>1</th>\n",
              "      <td>AALTO Antti</td>\n",
              "      <td>AALTO A</td>\n",
              "      <td>Male</td>\n",
              "      <td>1995-04-02</td>\n",
              "      <td>KITEE</td>\n",
              "      <td>Finland</td>\n",
              "      <td>Finland</td>\n",
              "      <td>FIN</td>\n",
              "      <td>Ski Jumping</td>\n",
              "      <td>SJP</td>\n",
              "      <td>KUOPIO</td>\n",
              "      <td>Finland</td>\n",
              "      <td>NaN</td>\n",
              "      <td>../../../en/results/ski-jumping/athlete-profil...</td>\n",
              "    </tr>\n",
              "    <tr>\n",
              "      <th>2</th>\n",
              "      <td>AALTONEN Miro</td>\n",
              "      <td>AALTONEN M</td>\n",
              "      <td>Male</td>\n",
              "      <td>1993-06-07</td>\n",
              "      <td>JOENSUU</td>\n",
              "      <td>Finland</td>\n",
              "      <td>Finland</td>\n",
              "      <td>FIN</td>\n",
              "      <td>Ice Hockey</td>\n",
              "      <td>IHO</td>\n",
              "      <td>PODOLSK</td>\n",
              "      <td>Russian Federation</td>\n",
              "      <td>1.80/5'10''</td>\n",
              "      <td>../../../en/results/ice-hockey/athlete-profile...</td>\n",
              "    </tr>\n",
              "    <tr>\n",
              "      <th>3</th>\n",
              "      <td>ABDELKADER Justin</td>\n",
              "      <td>ABDELKADER J</td>\n",
              "      <td>Male</td>\n",
              "      <td>1987-02-25</td>\n",
              "      <td>MUSKEGON, MI</td>\n",
              "      <td>United States of America</td>\n",
              "      <td>United States of America</td>\n",
              "      <td>USA</td>\n",
              "      <td>Ice Hockey</td>\n",
              "      <td>IHO</td>\n",
              "      <td>GRAND RAPIDS, MI</td>\n",
              "      <td>United States of America</td>\n",
              "      <td>1.87/6'1''</td>\n",
              "      <td>../../../en/results/ice-hockey/athlete-profile...</td>\n",
              "    </tr>\n",
              "    <tr>\n",
              "      <th>4</th>\n",
              "      <td>ABDI Fayik</td>\n",
              "      <td>ABDI F</td>\n",
              "      <td>Male</td>\n",
              "      <td>1997-10-07</td>\n",
              "      <td>SAN DIEGO, CA</td>\n",
              "      <td>United States of America</td>\n",
              "      <td>Saudi Arabia</td>\n",
              "      <td>KSA</td>\n",
              "      <td>Alpine Skiing</td>\n",
              "      <td>ALP</td>\n",
              "      <td>DHAHRAN</td>\n",
              "      <td>Saudi Arabia</td>\n",
              "      <td>NaN</td>\n",
              "      <td>../../../en/results/alpine-skiing/athlete-prof...</td>\n",
              "    </tr>\n",
              "  </tbody>\n",
              "</table>\n",
              "</div>\n",
              "      <button class=\"colab-df-convert\" onclick=\"convertToInteractive('df-ed5c3c50-3a74-436d-9bf6-f65d81e97c11')\"\n",
              "              title=\"Convert this dataframe to an interactive table.\"\n",
              "              style=\"display:none;\">\n",
              "        \n",
              "  <svg xmlns=\"http://www.w3.org/2000/svg\" height=\"24px\"viewBox=\"0 0 24 24\"\n",
              "       width=\"24px\">\n",
              "    <path d=\"M0 0h24v24H0V0z\" fill=\"none\"/>\n",
              "    <path d=\"M18.56 5.44l.94 2.06.94-2.06 2.06-.94-2.06-.94-.94-2.06-.94 2.06-2.06.94zm-11 1L8.5 8.5l.94-2.06 2.06-.94-2.06-.94L8.5 2.5l-.94 2.06-2.06.94zm10 10l.94 2.06.94-2.06 2.06-.94-2.06-.94-.94-2.06-.94 2.06-2.06.94z\"/><path d=\"M17.41 7.96l-1.37-1.37c-.4-.4-.92-.59-1.43-.59-.52 0-1.04.2-1.43.59L10.3 9.45l-7.72 7.72c-.78.78-.78 2.05 0 2.83L4 21.41c.39.39.9.59 1.41.59.51 0 1.02-.2 1.41-.59l7.78-7.78 2.81-2.81c.8-.78.8-2.07 0-2.86zM5.41 20L4 18.59l7.72-7.72 1.47 1.35L5.41 20z\"/>\n",
              "  </svg>\n",
              "      </button>\n",
              "      \n",
              "  <style>\n",
              "    .colab-df-container {\n",
              "      display:flex;\n",
              "      flex-wrap:wrap;\n",
              "      gap: 12px;\n",
              "    }\n",
              "\n",
              "    .colab-df-convert {\n",
              "      background-color: #E8F0FE;\n",
              "      border: none;\n",
              "      border-radius: 50%;\n",
              "      cursor: pointer;\n",
              "      display: none;\n",
              "      fill: #1967D2;\n",
              "      height: 32px;\n",
              "      padding: 0 0 0 0;\n",
              "      width: 32px;\n",
              "    }\n",
              "\n",
              "    .colab-df-convert:hover {\n",
              "      background-color: #E2EBFA;\n",
              "      box-shadow: 0px 1px 2px rgba(60, 64, 67, 0.3), 0px 1px 3px 1px rgba(60, 64, 67, 0.15);\n",
              "      fill: #174EA6;\n",
              "    }\n",
              "\n",
              "    [theme=dark] .colab-df-convert {\n",
              "      background-color: #3B4455;\n",
              "      fill: #D2E3FC;\n",
              "    }\n",
              "\n",
              "    [theme=dark] .colab-df-convert:hover {\n",
              "      background-color: #434B5C;\n",
              "      box-shadow: 0px 1px 3px 1px rgba(0, 0, 0, 0.15);\n",
              "      filter: drop-shadow(0px 1px 2px rgba(0, 0, 0, 0.3));\n",
              "      fill: #FFFFFF;\n",
              "    }\n",
              "  </style>\n",
              "\n",
              "      <script>\n",
              "        const buttonEl =\n",
              "          document.querySelector('#df-ed5c3c50-3a74-436d-9bf6-f65d81e97c11 button.colab-df-convert');\n",
              "        buttonEl.style.display =\n",
              "          google.colab.kernel.accessAllowed ? 'block' : 'none';\n",
              "\n",
              "        async function convertToInteractive(key) {\n",
              "          const element = document.querySelector('#df-ed5c3c50-3a74-436d-9bf6-f65d81e97c11');\n",
              "          const dataTable =\n",
              "            await google.colab.kernel.invokeFunction('convertToInteractive',\n",
              "                                                     [key], {});\n",
              "          if (!dataTable) return;\n",
              "\n",
              "          const docLinkHtml = 'Like what you see? Visit the ' +\n",
              "            '<a target=\"_blank\" href=https://colab.research.google.com/notebooks/data_table.ipynb>data table notebook</a>'\n",
              "            + ' to learn more about interactive tables.';\n",
              "          element.innerHTML = '';\n",
              "          dataTable['output_type'] = 'display_data';\n",
              "          await google.colab.output.renderOutput(dataTable, element);\n",
              "          const docLink = document.createElement('div');\n",
              "          docLink.innerHTML = docLinkHtml;\n",
              "          element.appendChild(docLink);\n",
              "        }\n",
              "      </script>\n",
              "    </div>\n",
              "  </div>\n",
              "  "
            ]
          },
          "metadata": {},
          "execution_count": 221
        }
      ]
    },
    {
      "cell_type": "code",
      "source": [
        "athletes_2.to_csv('/content/gdrive/My Drive/Cypher_VII/athletes_2.csv')"
      ],
      "metadata": {
        "id": "DBlydwfxNSB_"
      },
      "execution_count": 223,
      "outputs": []
    }
  ]
}